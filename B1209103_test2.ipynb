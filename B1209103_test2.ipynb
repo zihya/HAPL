{
  "nbformat": 4,
  "nbformat_minor": 0,
  "metadata": {
    "colab": {
      "provenance": []
    },
    "kernelspec": {
      "name": "python3",
      "display_name": "Python 3"
    },
    "language_info": {
      "name": "python"
    }
  },
  "cells": [
    {
      "cell_type": "code",
      "execution_count": null,
      "metadata": {
        "colab": {
          "base_uri": "https://localhost:8080/"
        },
        "id": "4vVWT7xS9NmE",
        "outputId": "4dc60d2c-dff9-45db-ca88-45063d0e5c6c"
      },
      "outputs": [
        {
          "output_type": "stream",
          "name": "stdout",
          "text": [
            "Ans.is= 11.11111111111111\n"
          ]
        }
      ],
      "source": [
        "y=4\n",
        "\n",
        "a=100\n",
        "b=2*y+1\n",
        "\n",
        "z=a/b\n",
        "\n",
        "print('Ans.is=',z)"
      ]
    }
  ]
}