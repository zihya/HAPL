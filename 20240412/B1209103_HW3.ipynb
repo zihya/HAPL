{
  "nbformat": 4,
  "nbformat_minor": 0,
  "metadata": {
    "colab": {
      "provenance": []
    },
    "kernelspec": {
      "name": "python3",
      "display_name": "Python 3"
    },
    "language_info": {
      "name": "python"
    }
  },
  "cells": [
    {
      "cell_type": "code",
      "execution_count": null,
      "metadata": {
        "colab": {
          "base_uri": "https://localhost:8080/"
        },
        "id": "MohXwDATVYX4",
        "outputId": "9a93838f-a2ee-4bd4-92b0-3b3ae68bac15"
      },
      "outputs": [
        {
          "output_type": "stream",
          "name": "stdout",
          "text": [
            "請輸入年分(西元)1893\n",
            "平年\n"
          ]
        }
      ],
      "source": [
        "a=float(input('請輸入年分(西元)'))\n",
        "if a%4!=0:\n",
        " print('平年')\n",
        "else:\n",
        " if a<=1582:\n",
        "  if a%4==0:\n",
        "   print('閏年')\n",
        " if a>1582:\n",
        "  if a%4==0:\n",
        "   if a%100!=0 or a%400==0:\n",
        "    print('閏年')\n",
        "   else:\n",
        "    print('平年')"
      ]
    }
  ]
}