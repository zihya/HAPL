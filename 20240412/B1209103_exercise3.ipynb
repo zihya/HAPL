{
  "nbformat": 4,
  "nbformat_minor": 0,
  "metadata": {
    "colab": {
      "provenance": []
    },
    "kernelspec": {
      "name": "python3",
      "display_name": "Python 3"
    },
    "language_info": {
      "name": "python"
    }
  },
  "cells": [
    {
      "cell_type": "code",
      "source": [
        "a = float(input(\"輸入身高(公分)\"))\n",
        "w = float(input(\"輸入體重(公斤)\"))\n",
        "\n",
        "h=a/100\n",
        "h**=2\n",
        "w/=h\n",
        "bmi=w\n",
        "print(\"BMI\",bmi)\n",
        "\n",
        "\n",
        "if bmi<18.5:\n",
        " print('體位:過輕')\n",
        "elif 18.5<bmi<24:\n",
        " print('體位:適中')\n",
        "elif 24<bmi<27:\n",
        " print('體位:過重')\n",
        "elif bmi>27:\n",
        " print('體位:肥胖')"
      ],
      "metadata": {
        "id": "lFx5uvhHwhfq",
        "colab": {
          "base_uri": "https://localhost:8080/"
        },
        "outputId": "094fdaed-6b7e-4507-8a6a-c4f6ba8201ac"
      },
      "execution_count": null,
      "outputs": [
        {
          "output_type": "stream",
          "name": "stdout",
          "text": [
            "輸入身高(公分)156\n",
            "輸入體重(公斤)50\n",
            "BMI 20.5456936226167\n",
            "體位:適中\n"
          ]
        }
      ]
    },
    {
      "cell_type": "code",
      "source": [
        "a=float(input('請輸入第一個數字'))\n",
        "b=float(input('請輸入第二個數字'))\n",
        "c=(input('請輸入一個運算符號'))\n",
        "if c=='+':\n",
        "  result=a+b\n",
        "elif c=='-':\n",
        "  result=a-b\n",
        "elif c=='/':\n",
        "  result=a/b\n",
        "elif c=='*':\n",
        "  result=a*b\n",
        "\n",
        "print(result)"
      ],
      "metadata": {
        "colab": {
          "base_uri": "https://localhost:8080/"
        },
        "id": "ZHEDBAZw7Cut",
        "outputId": "852f5f20-9c12-436c-adbd-50e335a73d0a"
      },
      "execution_count": null,
      "outputs": [
        {
          "output_type": "stream",
          "name": "stdout",
          "text": [
            "請輸入第一個數字5\n",
            "請輸入第二個數字8\n",
            "請輸入一個運算符號+\n",
            "13.0\n"
          ]
        }
      ]
    }
  ]
}