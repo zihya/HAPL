{
  "nbformat": 4,
  "nbformat_minor": 0,
  "metadata": {
    "colab": {
      "provenance": []
    },
    "kernelspec": {
      "name": "python3",
      "display_name": "Python 3"
    },
    "language_info": {
      "name": "python"
    }
  },
  "cells": [
    {
      "cell_type": "code",
      "execution_count": 26,
      "metadata": {
        "id": "skmI2Se4hTUB",
        "colab": {
          "base_uri": "https://localhost:8080/"
        },
        "outputId": "df249896-174b-48be-e844-cbd62fe8f82e"
      },
      "outputs": [
        {
          "output_type": "stream",
          "name": "stdout",
          "text": [
            "I am a student\n"
          ]
        }
      ],
      "source": [
        "a='I am a student'\n",
        "print(a)"
      ]
    },
    {
      "cell_type": "code",
      "source": [
        "x1, y1 = map(float, input(\"請輸入點A座標\").split(\",\"))\n",
        "x2, y2 = map(float, input(\"請輸入點B座標\").split(\",\"))\n",
        "\n",
        "distance = ((x2 - x1)**2 + (y2 - y1)**2)**0.5\n",
        "\n",
        "print(distance)"
      ],
      "metadata": {
        "colab": {
          "base_uri": "https://localhost:8080/"
        },
        "id": "_x2n0RR0whhW",
        "outputId": "c82e6df1-d0bc-473f-b029-12a470b7e165"
      },
      "execution_count": 27,
      "outputs": [
        {
          "output_type": "stream",
          "name": "stdout",
          "text": [
            "請輸入點A座標8,6\n",
            "請輸入點B座標5,4\n",
            "3.605551275463989\n"
          ]
        }
      ]
    },
    {
      "cell_type": "code",
      "source": [
        "h = float(input(\"輸入身高(公尺)\"))\n",
        "w = float(input(\"輸入體重(公斤)\"))\n",
        "\n",
        "h**=2\n",
        "w/=h\n",
        "bmi=w\n",
        "\n",
        "print(bmi)"
      ],
      "metadata": {
        "id": "lFx5uvhHwhfq",
        "colab": {
          "base_uri": "https://localhost:8080/"
        },
        "outputId": "ef8d6c5c-d576-429c-8f95-807efc083431"
      },
      "execution_count": 28,
      "outputs": [
        {
          "output_type": "stream",
          "name": "stdout",
          "text": [
            "輸入身高(公尺)1.6\n",
            "輸入體重(公斤)50\n",
            "19.531249999999996\n"
          ]
        }
      ]
    }
  ]
}