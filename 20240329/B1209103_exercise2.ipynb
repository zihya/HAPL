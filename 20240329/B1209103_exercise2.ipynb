{
  "nbformat": 4,
  "nbformat_minor": 0,
  "metadata": {
    "colab": {
      "provenance": []
    },
    "kernelspec": {
      "name": "python3",
      "display_name": "Python 3"
    },
    "language_info": {
      "name": "python"
    }
  },
  "cells": [
    {
      "cell_type": "code",
      "execution_count": 11,
      "metadata": {
        "colab": {
          "base_uri": "https://localhost:8080/"
        },
        "id": "f1gPJT-jv1uM",
        "outputId": "2706bcdc-69e9-4dbd-aaf0-8367c5657481"
      },
      "outputs": [
        {
          "output_type": "stream",
          "name": "stdout",
          "text": [
            "{'姓名': '賴宏瑋', '性別': '男', '作業分數': [100, 100, 90], '學號': 'M1129020'}\n",
            "96.66666666666667\n"
          ]
        }
      ],
      "source": [
        "a=dict(姓名='賴宏瑋',性別='男',作業分數=[80,95,100,90])\n",
        "a['學號']='M1129020'\n",
        "a['作業分數']=[80,100,100,90]\n",
        "del a ['作業分數'][0]\n",
        "print(a)\n",
        "b=a.get('作業分數')\n",
        "c=b[0]\n",
        "d=b[1]\n",
        "e=b[2]\n",
        "f=((c+d+e)/3)\n",
        "print(f)"
      ]
    }
  ]
}